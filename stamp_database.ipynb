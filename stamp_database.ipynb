{
 "cells": [
  {
   "cell_type": "code",
   "execution_count": 1,
   "id": "acf7bc9b",
   "metadata": {},
   "outputs": [],
   "source": [
    "import fitz  # PyMuPDF\n",
    "\n",
    "doc = fitz.open(\"Scotts_1917.pdf\")\n",
    "subdoc = fitz.open()\n",
    "\n",
    "# Extract first 20 pages\n",
    "for i in range(33, 96):\n",
    "    subdoc.insert_pdf(doc, from_page=i, to_page=i)\n",
    "\n",
    "subdoc.save(\"usa_pages.pdf\")\n"
   ]
  },
  {
   "cell_type": "code",
   "execution_count": 2,
   "id": "57f18c59",
   "metadata": {},
   "outputs": [
    {
     "name": "stdout",
     "output_type": "stream",
     "text": [
      "✅ Saved as 'stamps_usa_over_time.csv'\n"
     ]
    }
   ],
   "source": [
    "import fitz  # PyMuPDF\n",
    "import pandas as pd\n",
    "import re\n",
    "\n",
    "# Load the PDF\n",
    "doc = fitz.open(\"usa_pages.pdf\")\n",
    "\n",
    "data = []\n",
    "\n",
    "current_country = None\n",
    "current_year = None\n",
    "\n",
    "# Regex patterns\n",
    "year_pattern = re.compile(r\"\\b(18\\d{2}|19\\d{2})\\b\")\n",
    "entry_pattern = re.compile(r'(?P<value>\\d+c|\\$?\\d+\\.\\d+|\\d+\\s?c)\\s(?P<color>[a-zA-Z\\.\\- ]+)\\s+(?P<used>\\d+\\.\\d+)?\\s*(?P<unused>\\d+\\.\\d+)?')\n",
    "\n",
    "# Country heading heuristic\n",
    "def is_country_heading(line):\n",
    "    return (\n",
    "        line.isupper()\n",
    "        and len(line.split()) < 6\n",
    "        and not line.strip().endswith('.')\n",
    "        and not line.strip().startswith(\"TABLES\")\n",
    "        and \"CENTS\" not in line\n",
    "        and any(c.isalpha() for c in line)\n",
    "    )\n",
    "\n",
    "for page in doc:\n",
    "    text = page.get_text()\n",
    "    lines = text.split('\\n')\n",
    "\n",
    "    for line in lines:\n",
    "        line = line.strip()\n",
    "\n",
    "        # Detect country section headings\n",
    "        if is_country_heading(line):\n",
    "            current_country = line.title()\n",
    "            continue\n",
    "\n",
    "        # Detect year\n",
    "        year_match = year_pattern.search(line)\n",
    "        if year_match:\n",
    "            current_year = year_match.group()\n",
    "\n",
    "        # Attempt to match a stamp entry\n",
    "        match = entry_pattern.search(line)\n",
    "        if match:\n",
    "            value = match.group(\"value\")\n",
    "            color = match.group(\"color\").strip()\n",
    "            used = match.group(\"used\")\n",
    "            unused = match.group(\"unused\")\n",
    "            data.append({\n",
    "                \"Year\": current_year,\n",
    "                \"Stamp Value\": value,\n",
    "                \"Color\": color,\n",
    "                \"Used Price\": used,\n",
    "                \"Unused Price\": unused,\n",
    "                \"Raw Line\": line\n",
    "            })\n",
    "\n",
    "# Convert to DataFrame\n",
    "df = pd.DataFrame(data)\n",
    "\n",
    "# Save to CSV\n",
    "df.to_csv(\"stamps_usa_over_time.csv\", index=False)\n",
    "\n",
    "print(\"✅ Saved as 'stamps_usa_over_time.csv'\")\n"
   ]
  },
  {
   "cell_type": "code",
   "execution_count": 3,
   "id": "ef61b1c7",
   "metadata": {},
   "outputs": [
    {
     "name": "stdout",
     "output_type": "stream",
     "text": [
      "Collecting pymupdf\n",
      "  Obtaining dependency information for pymupdf from https://files.pythonhosted.org/packages/4a/26/8c72973b8833a72785cedc3981eb59b8ac7075942718bbb7b69b352cdde4/pymupdf-1.26.3-cp39-abi3-win_amd64.whl.metadata\n",
      "  Downloading pymupdf-1.26.3-cp39-abi3-win_amd64.whl.metadata (3.4 kB)\n",
      "Downloading pymupdf-1.26.3-cp39-abi3-win_amd64.whl (18.7 MB)\n",
      "   ---------------------------------------- 0.0/18.7 MB ? eta -:--:--\n",
      "   ---------------------------------------- 0.0/18.7 MB ? eta -:--:--\n",
      "   ---------------------------------------- 0.0/18.7 MB 330.3 kB/s eta 0:00:57\n",
      "   ---------------------------------------- 0.0/18.7 MB 393.8 kB/s eta 0:00:48\n",
      "   ---------------------------------------- 0.1/18.7 MB 798.9 kB/s eta 0:00:24\n",
      "   - -------------------------------------- 0.9/18.7 MB 5.1 MB/s eta 0:00:04\n",
      "   ----- ---------------------------------- 2.6/18.7 MB 11.2 MB/s eta 0:00:02\n",
      "   ---------- ----------------------------- 5.1/18.7 MB 19.3 MB/s eta 0:00:01\n",
      "   --------------- ------------------------ 7.4/18.7 MB 23.7 MB/s eta 0:00:01\n",
      "   ---------------- ----------------------- 7.8/18.7 MB 23.8 MB/s eta 0:00:01\n",
      "   ----------------- ---------------------- 8.1/18.7 MB 20.0 MB/s eta 0:00:01\n",
      "   ---------------------- ----------------- 10.6/18.7 MB 36.4 MB/s eta 0:00:01\n",
      "   ---------------------- ----------------- 10.6/18.7 MB 36.4 MB/s eta 0:00:01\n",
      "   ---------------------------- ----------- 13.2/18.7 MB 32.7 MB/s eta 0:00:01\n",
      "   ----------------------------- ---------- 13.9/18.7 MB 29.7 MB/s eta 0:00:01\n",
      "   -------------------------------- ------- 15.3/18.7 MB 27.3 MB/s eta 0:00:01\n",
      "   ------------------------------------- -- 17.4/18.7 MB 27.3 MB/s eta 0:00:01\n",
      "   ---------------------------------------  18.7/18.7 MB 32.8 MB/s eta 0:00:01\n",
      "   ---------------------------------------  18.7/18.7 MB 32.8 MB/s eta 0:00:01\n",
      "   ---------------------------------------- 18.7/18.7 MB 26.2 MB/s eta 0:00:00\n",
      "Installing collected packages: pymupdf\n",
      "Successfully installed pymupdf-1.26.3\n"
     ]
    }
   ],
   "source": [
    "!pip install pymupdf"
   ]
  },
  {
   "cell_type": "code",
   "execution_count": null,
   "id": "8e341157",
   "metadata": {},
   "outputs": [],
   "source": []
  }
 ],
 "metadata": {
  "kernelspec": {
   "display_name": "Python 3 (ipykernel)",
   "language": "python",
   "name": "python3"
  },
  "language_info": {
   "codemirror_mode": {
    "name": "ipython",
    "version": 3
   },
   "file_extension": ".py",
   "mimetype": "text/x-python",
   "name": "python",
   "nbconvert_exporter": "python",
   "pygments_lexer": "ipython3",
   "version": "3.11.5"
  }
 },
 "nbformat": 4,
 "nbformat_minor": 5
}
